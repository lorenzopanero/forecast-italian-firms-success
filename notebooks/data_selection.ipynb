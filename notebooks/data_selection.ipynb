{
 "cells": [
  {
   "cell_type": "code",
   "execution_count": 3,
   "metadata": {},
   "outputs": [],
   "source": [
    "import pandas as pd"
   ]
  },
  {
   "cell_type": "code",
   "execution_count": null,
   "metadata": {},
   "outputs": [
    {
     "name": "stderr",
     "output_type": "stream",
     "text": [
      "/tmp/ipykernel_11838/313134176.py:5: DtypeWarning: Columns (29,30,32,34,36,39,43,44,77) have mixed types. Specify dtype option on import or set low_memory=False.\n",
      "  df_merged = pd.read_csv('../data/df_merged.csv')  # Adjust the file extension if it's not a CSVb\n"
     ]
    }
   ],
   "source": [
    "# import df_merged.csv\n",
    "\n",
    "# Load the df_merged file from the data folder\n",
    "df_merged = pd.read_csv('../data/df_merged.csv')  # Adjust the file extension if it's not a CSVb\n"
   ]
  },
  {
   "cell_type": "code",
   "execution_count": 14,
   "metadata": {},
   "outputs": [],
   "source": [
    "# check how many rows has both 'crunchbase_Organization Name' and 'anagrafica_Ragione sociale' not empty\n",
    "df_merged = df_merged.dropna(subset=['crunchbase_Organization Name', 'anagrafica_Ragione sociale'])"
   ]
  },
  {
   "cell_type": "code",
   "execution_count": 15,
   "metadata": {},
   "outputs": [
    {
     "data": {
      "text/plain": [
       "(1576, 102)"
      ]
     },
     "execution_count": 15,
     "metadata": {},
     "output_type": "execute_result"
    }
   ],
   "source": [
    "df_merged.shape"
   ]
  },
  {
   "cell_type": "code",
   "execution_count": 5,
   "metadata": {},
   "outputs": [
    {
     "data": {
      "text/plain": [
       "['anagrafica_Unnamed: 0',\n",
       " 'anagrafica_Ragione sociale',\n",
       " 'anagrafica_BvD ID number',\n",
       " 'anagrafica_Codice fiscale',\n",
       " 'anagrafica_Numero CCIAA',\n",
       " 'anagrafica_Partita IVA',\n",
       " 'anagrafica_Indirizzo sede legale',\n",
       " 'anagrafica_Provincia',\n",
       " 'anagrafica_Indirizzo sede legale - Codice postale',\n",
       " 'anagrafica_Indirizzo sede legale - Regione',\n",
       " 'anagrafica_Sede operativa',\n",
       " 'anagrafica_Sede operativa - Provincia',\n",
       " 'anagrafica_Sede operativa - Codice postale',\n",
       " 'anagrafica_Sede operativa - Regione - Regione',\n",
       " 'anagrafica_ATECO 2007\\ncodice',\n",
       " 'anagrafica_Anno di costituzione',\n",
       " 'anagrafica_Fondazione',\n",
       " 'anagrafica_Stato giuridico',\n",
       " 'anagrafica_Forma giuridica',\n",
       " 'crunchbase_Organization Name',\n",
       " 'crunchbase_Organization Name URL',\n",
       " 'crunchbase_IPO Status',\n",
       " 'crunchbase_Company Type',\n",
       " 'crunchbase_Industries',\n",
       " 'crunchbase_Number of Employees',\n",
       " 'crunchbase_Headquarters Location',\n",
       " 'crunchbase_CB Rank (Organization)',\n",
       " 'crunchbase_Stage',\n",
       " 'crunchbase_CB Rank (Company)',\n",
       " 'crunchbase_Stock Symbol',\n",
       " 'crunchbase_Stock Symbol URL',\n",
       " 'crunchbase_Similar Companies',\n",
       " 'crunchbase_CB Rank (School)',\n",
       " 'crunchbase_Number of Events',\n",
       " 'crunchbase_Stock Exchange',\n",
       " 'crunchbase_Valuation at IPO',\n",
       " 'crunchbase_Valuation at IPO Currency',\n",
       " 'crunchbase_Valuation at IPO (in USD)',\n",
       " 'crunchbase_Money Raised at IPO',\n",
       " 'crunchbase_Money Raised at IPO Currency',\n",
       " 'crunchbase_Money Raised at IPO (in USD)',\n",
       " 'crunchbase_Delisted Date',\n",
       " 'crunchbase_Delisted Date Precision',\n",
       " 'crunchbase_IPO Date',\n",
       " 'crunchbase_Acquisition Terms',\n",
       " 'crunchbase_Acquisition Type',\n",
       " 'crunchbase_Price',\n",
       " 'crunchbase_Price Currency',\n",
       " 'crunchbase_Price (in USD)',\n",
       " 'crunchbase_Announced Date',\n",
       " 'crunchbase_Announced Date Precision',\n",
       " 'crunchbase_Acquired by',\n",
       " 'crunchbase_Acquired by URL',\n",
       " 'crunchbase_Transaction Name',\n",
       " 'crunchbase_Transaction Name URL',\n",
       " 'crunchbase_Acquisition Status',\n",
       " 'crunchbase_Number of Acquisitions',\n",
       " 'crunchbase_Number of Investors',\n",
       " 'crunchbase_Number of Lead Investors',\n",
       " 'crunchbase_Top 5 Investors',\n",
       " 'crunchbase_Total Funding Amount',\n",
       " 'crunchbase_Total Funding Amount Currency',\n",
       " 'crunchbase_Total Funding Amount (in USD)',\n",
       " 'crunchbase_Last Equity Funding Type',\n",
       " 'crunchbase_Last Equity Funding Amount',\n",
       " 'crunchbase_Last Equity Funding Amount Currency',\n",
       " 'crunchbase_Last Equity Funding Amount (in USD)',\n",
       " 'crunchbase_Last Funding Type',\n",
       " 'crunchbase_Last Funding Amount',\n",
       " 'crunchbase_Last Funding Amount Currency',\n",
       " 'crunchbase_Last Funding Amount (in USD)',\n",
       " 'crunchbase_Last Funding Date',\n",
       " 'crunchbase_Funding Status',\n",
       " 'crunchbase_Number of Funding Rounds',\n",
       " 'crunchbase_Founders',\n",
       " 'crunchbase_Number of Founders',\n",
       " 'crunchbase_Industry Groups',\n",
       " 'crunchbase_Accelerator Program Type',\n",
       " 'crunchbase_Accelerator Duration (in weeks)',\n",
       " 'crunchbase_Accelerator Application Deadline',\n",
       " 'crunchbase_Investment Stage',\n",
       " 'crunchbase_Investor Type',\n",
       " 'crunchbase_Full Description',\n",
       " 'crunchbase_Phone Number',\n",
       " 'crunchbase_Contact Email',\n",
       " 'crunchbase_LinkedIn',\n",
       " 'crunchbase_Website',\n",
       " 'crunchbase_Closed Date',\n",
       " 'crunchbase_Closed Date Precision',\n",
       " 'crunchbase_Exit Date',\n",
       " 'crunchbase_Exit Date Precision',\n",
       " 'crunchbase_Founded Date',\n",
       " 'crunchbase_Founded Date Precision',\n",
       " 'crunchbase_Operating Status',\n",
       " 'crunchbase_Description',\n",
       " 'crunchbase_Estimated Revenue Range',\n",
       " 'crunchbase_Postal Code',\n",
       " 'crunchbase_Headquarters Regions',\n",
       " 'crunchbase_Number of Portfolio Organizations',\n",
       " 'similarity_score',\n",
       " 'composite_match',\n",
       " 'company_id']"
      ]
     },
     "execution_count": 5,
     "metadata": {},
     "output_type": "execute_result"
    }
   ],
   "source": [
    "# all columns\n",
    "pd.set_option('display.max_columns', None)\n",
    "list(df_merged.columns)"
   ]
  },
  {
   "cell_type": "code",
   "execution_count": 7,
   "metadata": {},
   "outputs": [],
   "source": [
    "# crunchbase columns\n",
    "crunchbase_columns = ['crunchbase_Organization Name',\n",
    "                        'crunchbase_IPO Status',\n",
    "                        #'crunchbase_Company Type',\n",
    "                        'crunchbase_Industries',\n",
    "                        'crunchbase_Number of Employees',\n",
    "                        'crunchbase_Headquarters Location',\n",
    "                        #'crunchbase_CB Rank (Organization)',\n",
    "                        #'crunchbase_Stage',\n",
    "                        'crunchbase_CB Rank (Company)',\n",
    "                        #'crunchbase_Stock Symbol',\n",
    "                        #'crunchbase_Stock Symbol URL',\n",
    "                        'crunchbase_Similar Companies',\n",
    "                        #'crunchbase_CB Rank (School)',\n",
    "                        #'crunchbase_Number of Events',\n",
    "                        #'crunchbase_Stock Exchange',\n",
    "                        #'crunchbase_Valuation at IPO',\n",
    "                        #'crunchbase_Valuation at IPO Currency',\n",
    "                        #'crunchbase_Valuation at IPO (in USD)',\n",
    "                        #'crunchbase_Money Raised at IPO',\n",
    "                        #'crunchbase_Money Raised at IPO Currency',\n",
    "                        #'crunchbase_Money Raised at IPO (in USD)',\n",
    "                        #'crunchbase_Delisted Date',\n",
    "                        #'crunchbase_Delisted Date Precision',\n",
    "                        #'crunchbase_IPO Date',\n",
    "                        #'crunchbase_Acquisition Terms',\n",
    "                        'crunchbase_Acquisition Type',\n",
    "                        #'crunchbase_Price',\n",
    "                        #'crunchbase_Price Currency',\n",
    "                        'crunchbase_Price (in USD)',\n",
    "                        #'crunchbase_Announced Date',\n",
    "                        #'crunchbase_Announced Date Precision',\n",
    "                        #'crunchbase_Acquired by',\n",
    "                        #'crunchbase_Acquired by URL',\n",
    "                        #'crunchbase_Transaction Name',\n",
    "                        #'crunchbase_Transaction Name URL',\n",
    "                        #'crunchbase_Acquisition Status',\n",
    "                        #'crunchbase_Number of Acquisitions',\n",
    "                        'crunchbase_Number of Investors',\n",
    "                        'crunchbase_Number of Lead Investors',\n",
    "                        'crunchbase_Top 5 Investors',\n",
    "                        #'crunchbase_Total Funding Amount',\n",
    "                        #'crunchbase_Total Funding Amount Currency',\n",
    "                        'crunchbase_Total Funding Amount (in USD)',\n",
    "                        'crunchbase_Last Equity Funding Type',\n",
    "                        #'crunchbase_Last Equity Funding Amount',\n",
    "                        #'crunchbase_Last Equity Funding Amount Currency',\n",
    "                        'crunchbase_Last Equity Funding Amount (in USD)',\n",
    "                        #'crunchbase_Last Funding Type',\n",
    "                        #'crunchbase_Last Funding Amount',\n",
    "                        #'crunchbase_Last Funding Amount Currency',\n",
    "                        'crunchbase_Last Funding Amount (in USD)',\n",
    "                        #'crunchbase_Last Funding Date',\n",
    "                        'crunchbase_Funding Status',\n",
    "                        'crunchbase_Number of Funding Rounds',\n",
    "                        'crunchbase_Founders',\n",
    "                        'crunchbase_Number of Founders',\n",
    "                        #'crunchbase_Industry Groups',\n",
    "                        #'crunchbase_Accelerator Program Type',\n",
    "                        #'crunchbase_Accelerator Duration (in weeks)',\n",
    "                        #'crunchbase_Accelerator Application Deadline',\n",
    "                        #'crunchbase_Investment Stage',\n",
    "                        #'crunchbase_Investor Type',\n",
    "                        #'crunchbase_Full Description',\n",
    "                        #'crunchbase_Phone Number',\n",
    "                        #'crunchbase_Contact Email',\n",
    "                        #'crunchbase_LinkedIn',\n",
    "                        #'crunchbase_Website',\n",
    "                        #'crunchbase_Closed Date',\n",
    "                        #'crunchbase_Closed Date Precision',\n",
    "                        'crunchbase_Exit Date',\n",
    "                        #'crunchbase_Exit Date Precision',\n",
    "                        'crunchbase_Founded Date',\n",
    "                        #'crunchbase_Founded Date Precision',\n",
    "                        'crunchbase_Operating Status',\n",
    "                        #'crunchbase_Description',\n",
    "                        'crunchbase_Estimated Revenue Range',\n",
    "                        'crunchbase_Postal Code',\n",
    "                        #'crunchbase_Headquarters Regions',\n",
    "                        #'crunchbase_Number of Portfolio Organizations',\n",
    "                        ]"
   ]
  },
  {
   "cell_type": "code",
   "execution_count": 8,
   "metadata": {},
   "outputs": [],
   "source": [
    "# aida columns\n",
    "aida_columns = [#'anagrafica_Unnamed: 0',\n",
    "                'anagrafica_Ragione sociale',\n",
    "                #'anagrafica_BvD ID number',\n",
    "                #'anagrafica_Codice fiscale',\n",
    "                #'anagrafica_Numero CCIAA',\n",
    "                #'anagrafica_Partita IVA',\n",
    "                #'anagrafica_Indirizzo sede legale',\n",
    "                'anagrafica_Provincia',\n",
    "                'anagrafica_Indirizzo sede legale - Codice postale',\n",
    "                'anagrafica_Indirizzo sede legale - Regione',\n",
    "                'anagrafica_Sede operativa',\n",
    "                'anagrafica_Sede operativa - Provincia',\n",
    "                'anagrafica_Sede operativa - Codice postale',\n",
    "                'anagrafica_Sede operativa - Regione - Regione',\n",
    "                'anagrafica_ATECO 2007\\ncodice',\n",
    "                'anagrafica_Anno di costituzione',\n",
    "                'anagrafica_Fondazione',\n",
    "                'anagrafica_Stato giuridico',\n",
    "                'anagrafica_Forma giuridica',]"
   ]
  },
  {
   "cell_type": "code",
   "execution_count": 16,
   "metadata": {},
   "outputs": [],
   "source": [
    "# create a df with the columns of interest\n",
    "df_model = df_merged[crunchbase_columns + aida_columns]"
   ]
  },
  {
   "cell_type": "code",
   "execution_count": 18,
   "metadata": {},
   "outputs": [
    {
     "data": {
      "text/plain": [
       "(1576, 38)"
      ]
     },
     "execution_count": 18,
     "metadata": {},
     "output_type": "execute_result"
    }
   ],
   "source": [
    "df_model.shape"
   ]
  }
 ],
 "metadata": {
  "kernelspec": {
   "display_name": ".venv",
   "language": "python",
   "name": "python3"
  },
  "language_info": {
   "codemirror_mode": {
    "name": "ipython",
    "version": 3
   },
   "file_extension": ".py",
   "mimetype": "text/x-python",
   "name": "python",
   "nbconvert_exporter": "python",
   "pygments_lexer": "ipython3",
   "version": "3.12.3"
  }
 },
 "nbformat": 4,
 "nbformat_minor": 2
}
