{
 "cells": [
  {
   "cell_type": "markdown",
   "metadata": {},
   "source": [
    "'permalink', 'name', 'homepage_url', 'category_list', 'market',\n",
    "       'funding_total_usd', 'status', 'country_code', 'state_code', 'region',\n",
    "       'city', 'funding_rounds', 'founded_at', 'founded_month',\n",
    "       'founded_quarter', 'founded_year', 'first_funding_at',\n",
    "       'last_funding_at', 'seed', 'venture', 'equity_crowdfunding',\n",
    "       'undisclosed', 'convertible_note', 'debt_financing', 'angel', 'grant',\n",
    "       'private_equity', 'post_ipo_equity', 'post_ipo_debt',\n",
    "       'secondary_market', 'product_crowdfunding', 'round_A', 'round_B',\n",
    "       'round_C', 'round_D', 'round_E', 'round_F', 'round_G', 'round_H'\n",
    "    "
   ]
  },
  {
   "cell_type": "code",
   "execution_count": null,
   "metadata": {
    "vscode": {
     "languageId": "plaintext"
    }
   },
   "outputs": [],
   "source": [
    "dropped : 'permalink', 'homepage_url', 'category_list', \n",
    "                          'founded_quarter', 'post_ipo_equity',  \n",
    "                          'post_ipo_debt', 'secondary_market'"
   ]
  },
  {
   "cell_type": "markdown",
   "metadata": {},
   "source": [
    "Già ok : name, 'funding_rounds',  'founded_at', 'founded_month', 'founded_year', 'funding_total_usd',   "
   ]
  },
  {
   "cell_type": "markdown",
   "metadata": {},
   "source": [
    "Da creare: 'market', 'status' (acquired/operating), 'country_code', 'state_code', 'region', 'city', 'first_funding_at', 'last_funding_at',"
   ]
  },
  {
   "cell_type": "markdown",
   "metadata": {},
   "source": [
    "0/1 :  'seed', 'venture', 'equity_crowdfunding', 'undisclosed', 'convertible_note', 'debt_financing', 'angel', 'grant', 'private_equity', 'product_crowdfunding', 'round_A', 'round_B', 'round_C', 'round_D', 'round_E', 'round_F', 'round_G', 'round_H'"
   ]
  }
 ],
 "metadata": {
  "language_info": {
   "name": "python"
  }
 },
 "nbformat": 4,
 "nbformat_minor": 2
}
