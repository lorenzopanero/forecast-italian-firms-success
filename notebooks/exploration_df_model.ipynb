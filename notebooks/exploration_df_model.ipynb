{
 "cells": [
  {
   "cell_type": "code",
   "execution_count": 1,
   "metadata": {},
   "outputs": [],
   "source": [
    "import pandas as pd \n",
    "df_model = pd.read_csv('../data/df_model.csv') "
   ]
  },
  {
   "cell_type": "code",
   "execution_count": 8,
   "metadata": {},
   "outputs": [
    {
     "data": {
      "text/plain": [
       "Index(['crunchbase_Organization Name', 'crunchbase_IPO Status',\n",
       "       'crunchbase_Industries', 'crunchbase_Number of Employees',\n",
       "       'crunchbase_Headquarters Location', 'crunchbase_CB Rank (Company)',\n",
       "       'crunchbase_Similar Companies', 'crunchbase_Acquisition Type',\n",
       "       'crunchbase_Price (in USD)', 'crunchbase_Number of Investors',\n",
       "       'crunchbase_Number of Lead Investors', 'crunchbase_Top 5 Investors',\n",
       "       'crunchbase_Total Funding Amount (in USD)',\n",
       "       'crunchbase_Last Equity Funding Type',\n",
       "       'crunchbase_Last Equity Funding Amount (in USD)',\n",
       "       'crunchbase_Last Funding Amount (in USD)', 'crunchbase_Funding Status',\n",
       "       'crunchbase_Number of Funding Rounds', 'crunchbase_Founders',\n",
       "       'crunchbase_Number of Founders', 'crunchbase_Exit Date',\n",
       "       'crunchbase_Founded Date', 'crunchbase_Operating Status',\n",
       "       'crunchbase_Estimated Revenue Range', 'crunchbase_Postal Code',\n",
       "       'anagrafica_Ragione sociale', 'anagrafica_Provincia',\n",
       "       'anagrafica_Indirizzo sede legale - Codice postale',\n",
       "       'anagrafica_Indirizzo sede legale - Regione',\n",
       "       'anagrafica_Sede operativa', 'anagrafica_Sede operativa - Provincia',\n",
       "       'anagrafica_Sede operativa - Codice postale',\n",
       "       'anagrafica_Sede operativa - Regione - Regione',\n",
       "       'anagrafica_ATECO 2007\\ncodice', 'anagrafica_Anno di costituzione',\n",
       "       'anagrafica_Fondazione', 'anagrafica_Stato giuridico',\n",
       "       'anagrafica_Forma giuridica'],\n",
       "      dtype='object')"
      ]
     },
     "execution_count": 8,
     "metadata": {},
     "output_type": "execute_result"
    }
   ],
   "source": [
    "df_model.columns"
   ]
  },
  {
   "cell_type": "code",
   "execution_count": 10,
   "metadata": {},
   "outputs": [
    {
     "data": {
      "text/plain": [
       "anagrafica_Ragione sociale\n",
       "NEXT S.R.L.               True\n",
       "DM HOLDING S.R.L.         True\n",
       "STEMA SRL                 True\n",
       "MAMO S.R.L.               True\n",
       "ITA INNOVATION S.R.L.     True\n",
       "                         ...  \n",
       "PROFIT FARM S.R.L.       False\n",
       "LEB S.R.L.               False\n",
       "RE-SPORT S.R.L.          False\n",
       "TRAWELLIT SRL            False\n",
       "BIOMIMESI S.R.L.         False\n",
       "Name: count, Length: 1845, dtype: bool"
      ]
     },
     "execution_count": 10,
     "metadata": {},
     "output_type": "execute_result"
    }
   ],
   "source": [
    "df_model[\"anagrafica_Ragione sociale\"].value_counts() == 2"
   ]
  }
 ],
 "metadata": {
  "kernelspec": {
   "display_name": ".venv",
   "language": "python",
   "name": "python3"
  },
  "language_info": {
   "codemirror_mode": {
    "name": "ipython",
    "version": 3
   },
   "file_extension": ".py",
   "mimetype": "text/x-python",
   "name": "python",
   "nbconvert_exporter": "python",
   "pygments_lexer": "ipython3",
   "version": "3.12.3"
  }
 },
 "nbformat": 4,
 "nbformat_minor": 2
}
