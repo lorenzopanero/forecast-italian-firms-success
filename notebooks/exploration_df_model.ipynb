{
 "cells": [
  {
   "cell_type": "code",
   "execution_count": 1,
   "metadata": {},
   "outputs": [],
   "source": [
    "import pandas as pd \n",
    "df_model = pd.read_csv('../data/df_model.csv') "
   ]
  },
  {
   "cell_type": "code",
   "execution_count": 2,
   "metadata": {},
   "outputs": [
    {
     "data": {
      "text/plain": [
       "Index(['crunchbase_Organization Name', 'crunchbase_IPO Status',\n",
       "       'crunchbase_Industries', 'crunchbase_Number of Employees',\n",
       "       'crunchbase_Headquarters Location', 'crunchbase_CB Rank (Company)',\n",
       "       'crunchbase_Similar Companies', 'crunchbase_Acquisition Type',\n",
       "       'crunchbase_Price (in USD)', 'crunchbase_Number of Investors',\n",
       "       'crunchbase_Number of Lead Investors', 'crunchbase_Top 5 Investors',\n",
       "       'crunchbase_Total Funding Amount (in USD)',\n",
       "       'crunchbase_Last Equity Funding Type',\n",
       "       'crunchbase_Last Equity Funding Amount (in USD)',\n",
       "       'crunchbase_Last Funding Amount (in USD)', 'crunchbase_Funding Status',\n",
       "       'crunchbase_Number of Funding Rounds', 'crunchbase_Founders',\n",
       "       'crunchbase_Number of Founders', 'crunchbase_Exit Date',\n",
       "       'crunchbase_Founded Date', 'crunchbase_Operating Status',\n",
       "       'crunchbase_Estimated Revenue Range', 'crunchbase_Postal Code',\n",
       "       'anagrafica_Ragione sociale', 'anagrafica_Provincia',\n",
       "       'anagrafica_Indirizzo sede legale - Codice postale',\n",
       "       'anagrafica_Indirizzo sede legale - Regione',\n",
       "       'anagrafica_Sede operativa', 'anagrafica_Sede operativa - Provincia',\n",
       "       'anagrafica_Sede operativa - Codice postale',\n",
       "       'anagrafica_Sede operativa - Regione - Regione',\n",
       "       'anagrafica_ATECO 2007\\ncodice', 'anagrafica_Anno di costituzione',\n",
       "       'anagrafica_Fondazione', 'anagrafica_Stato giuridico',\n",
       "       'anagrafica_Forma giuridica'],\n",
       "      dtype='object')"
      ]
     },
     "execution_count": 2,
     "metadata": {},
     "output_type": "execute_result"
    }
   ],
   "source": [
    "df_model.columns"
   ]
  },
  {
   "cell_type": "code",
   "execution_count": 3,
   "metadata": {},
   "outputs": [],
   "source": [
    "columns = ['crunchbase_IPO Status', 'crunchbase_Number of Employees', 'crunchbase_CB Rank (Company)', 'crunchbase_Similar Companies', 'crunchbase_Price (in USD)', 'crunchbase_Number of Investors', 'crunchbase_Number of Lead Investors', 'crunchbase_Total Funding Amount (in USD)', 'crunchbase_Last Equity Funding Amount (in USD)', 'crunchbase_Last Funding Amount (in USD)', 'crunchbase_Funding Status', 'crunchbase_Number of Funding Rounds', 'crunchbase_Founders', 'crunchbase_Number of Founders', 'crunchbase_Exit Date',\n",
    "\n",
    "'crunchbase_Operating Status',\n",
    "\n",
    "\n",
    "'crunchbase_Estimated Revenue Range', 'anagrafica_Provincia', 'anagrafica_Indirizzo sede legale - Codice postale', 'anagrafica_Indirizzo sede legale - Regione', 'anagrafica_Sede operativa - Provincia', 'anagrafica_Sede operativa - Codice postale', 'anagrafica_Sede operativa - Regione - Regione',\n",
    "\n",
    "'anagrafica_ATECO 2007\\ncodice', 'anagrafica_Anno di costituzione', 'anagrafica_Fondazione', 'anagrafica_Forma giuridica',\n",
    "\n",
    "'anagrafica_Stato giuridico']\n",
    "       "
   ]
  },
  {
   "cell_type": "code",
   "execution_count": 4,
   "metadata": {},
   "outputs": [
    {
     "name": "stdout",
     "output_type": "stream",
     "text": [
      "Number of rows with matching values: 1036\n"
     ]
    }
   ],
   "source": [
    "matching_rows = df_model[df_model[\"anagrafica_Anno di costituzione\"].str[-4:] == df_model[\"crunchbase_Founded Date\"].str[:4]]\n",
    "print(f\"Number of rows with matching values: {len(matching_rows)}\")"
   ]
  },
  {
   "cell_type": "code",
   "execution_count": 5,
   "metadata": {},
   "outputs": [
    {
     "data": {
      "text/html": [
       "<div>\n",
       "<style scoped>\n",
       "    .dataframe tbody tr th:only-of-type {\n",
       "        vertical-align: middle;\n",
       "    }\n",
       "\n",
       "    .dataframe tbody tr th {\n",
       "        vertical-align: top;\n",
       "    }\n",
       "\n",
       "    .dataframe thead th {\n",
       "        text-align: right;\n",
       "    }\n",
       "</style>\n",
       "<table border=\"1\" class=\"dataframe\">\n",
       "  <thead>\n",
       "    <tr style=\"text-align: right;\">\n",
       "      <th></th>\n",
       "      <th>crunchbase_Founded Date</th>\n",
       "      <th>anagrafica_Anno di costituzione</th>\n",
       "    </tr>\n",
       "  </thead>\n",
       "  <tbody>\n",
       "    <tr>\n",
       "      <th>0</th>\n",
       "      <td>2019-01-01</td>\n",
       "      <td>31/01/2019</td>\n",
       "    </tr>\n",
       "    <tr>\n",
       "      <th>1</th>\n",
       "      <td>2019-01-01</td>\n",
       "      <td>02/10/2019</td>\n",
       "    </tr>\n",
       "    <tr>\n",
       "      <th>2</th>\n",
       "      <td>2020-01-01</td>\n",
       "      <td>03/12/2020</td>\n",
       "    </tr>\n",
       "    <tr>\n",
       "      <th>3</th>\n",
       "      <td>2018-01-01</td>\n",
       "      <td>10/05/2022</td>\n",
       "    </tr>\n",
       "    <tr>\n",
       "      <th>4</th>\n",
       "      <td>2019-01-01</td>\n",
       "      <td>07/03/2019</td>\n",
       "    </tr>\n",
       "    <tr>\n",
       "      <th>...</th>\n",
       "      <td>...</td>\n",
       "      <td>...</td>\n",
       "    </tr>\n",
       "    <tr>\n",
       "      <th>1851</th>\n",
       "      <td>2018-04-01</td>\n",
       "      <td>07/11/2018</td>\n",
       "    </tr>\n",
       "    <tr>\n",
       "      <th>1852</th>\n",
       "      <td>2021-01-01</td>\n",
       "      <td>15/03/2018</td>\n",
       "    </tr>\n",
       "    <tr>\n",
       "      <th>1853</th>\n",
       "      <td>2020-07-01</td>\n",
       "      <td>08/06/2021</td>\n",
       "    </tr>\n",
       "    <tr>\n",
       "      <th>1854</th>\n",
       "      <td>2020-05-01</td>\n",
       "      <td>10/12/2019</td>\n",
       "    </tr>\n",
       "    <tr>\n",
       "      <th>1855</th>\n",
       "      <td>2021-11-17</td>\n",
       "      <td>18/05/2021</td>\n",
       "    </tr>\n",
       "  </tbody>\n",
       "</table>\n",
       "<p>1856 rows × 2 columns</p>\n",
       "</div>"
      ],
      "text/plain": [
       "     crunchbase_Founded Date anagrafica_Anno di costituzione\n",
       "0                 2019-01-01                      31/01/2019\n",
       "1                 2019-01-01                      02/10/2019\n",
       "2                 2020-01-01                      03/12/2020\n",
       "3                 2018-01-01                      10/05/2022\n",
       "4                 2019-01-01                      07/03/2019\n",
       "...                      ...                             ...\n",
       "1851              2018-04-01                      07/11/2018\n",
       "1852              2021-01-01                      15/03/2018\n",
       "1853              2020-07-01                      08/06/2021\n",
       "1854              2020-05-01                      10/12/2019\n",
       "1855              2021-11-17                      18/05/2021\n",
       "\n",
       "[1856 rows x 2 columns]"
      ]
     },
     "execution_count": 5,
     "metadata": {},
     "output_type": "execute_result"
    }
   ],
   "source": [
    "df_model[[\"crunchbase_Founded Date\", \"anagrafica_Anno di costituzione\"]]"
   ]
  },
  {
   "cell_type": "code",
   "execution_count": 6,
   "metadata": {},
   "outputs": [],
   "source": [
    "import seaborn as sns "
   ]
  },
  {
   "cell_type": "code",
   "execution_count": null,
   "metadata": {},
   "outputs": [],
   "source": [
    "#sns.pairplot(df_model, vars=columns)"
   ]
  }
 ],
 "metadata": {
  "kernelspec": {
   "display_name": ".venv",
   "language": "python",
   "name": "python3"
  },
  "language_info": {
   "codemirror_mode": {
    "name": "ipython",
    "version": 3
   },
   "file_extension": ".py",
   "mimetype": "text/x-python",
   "name": "python",
   "nbconvert_exporter": "python",
   "pygments_lexer": "ipython3",
   "version": "3.12.3"
  }
 },
 "nbformat": 4,
 "nbformat_minor": 2
}
